{
  "metadata": {
    "kernelspec": {
      "display_name": "Python in CPU-M-1-cpu-4Gb-Ram (env py_36_matplotlib_dash)",
      "language": "python",
      "name": "py-dku-containerized-venv-py_36_matplotlib_dash-cpu-m-1-cpu-4gb-ram"
    },
    "associatedRecipe": "compute_ecommerce_trans_prep",
    "creationTag": {
      "versionNumber": 0,
      "lastModifiedBy": {
        "login": "vicent.osabel@dataiku.com"
      },
      "lastModifiedOn": 1730168612006,
      "extendedProperties": {}
    },
    "creator": "vicent.osabel@dataiku.com",
    "createdOn": 1730168612006,
    "tags": [
      "recipe-editor"
    ],
    "customFields": {}
  },
  "nbformat": 4,
  "nbformat_minor": 0,
  "cells": [
    {
      "execution_count": 0,
      "cell_type": "code",
      "metadata": {},
      "source": [
        "# -*- coding: utf-8 -*-\n",
        "import dataiku\n",
        "import pandas as pd, numpy as np\n",
        "from dataiku import pandasutils as pdu\n",
        "\n",
        "import socket"
      ],
      "outputs": []
    },
    {
      "execution_count": 0,
      "cell_type": "code",
      "metadata": {},
      "source": [
        "# Read recipe inputs\n",
        "ecommerce_transactions \u003d dataiku.Dataset(\"ecommerce_transactions\")\n",
        "df \u003d ecommerce_transactions.get_dataframe()"
      ],
      "outputs": []
    },
    {
      "execution_count": 0,
      "cell_type": "code",
      "metadata": {},
      "source": [
        "df_merchants \u003d pd.DataFrame(df.MerchantURL.unique(), columns\u003d[\"MerchantURL\"])"
      ],
      "outputs": []
    },
    {
      "execution_count": 0,
      "cell_type": "code",
      "metadata": {},
      "source": [
        "df_merchants[\"MerchantIP\"] \u003d df_merchants.MerchantURL.apply(socket.gethostbyname)"
      ],
      "outputs": []
    },
    {
      "execution_count": 0,
      "cell_type": "code",
      "metadata": {},
      "source": [
        "df \u003d df.merge(df_merchants, on\u003d[\"MerchantURL\"], how\u003d\"left\")"
      ],
      "outputs": []
    },
    {
      "execution_count": 0,
      "cell_type": "code",
      "metadata": {},
      "source": [
        "# Write recipe outputs\n",
        "ecommerce_transactions_with_ip \u003d dataiku.Dataset(\"ecommerce_trans_prep\")\n",
        "ecommerce_transactions_with_ip.write_with_schema(df)"
      ],
      "outputs": []
    }
  ]
}