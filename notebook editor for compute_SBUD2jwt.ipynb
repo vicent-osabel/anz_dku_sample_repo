{
 "cells": [
  {
   "cell_type": "code",
   "execution_count": 0,
   "metadata": {},
   "outputs": [],
   "source": [
    "import dataiku\n",
    "import pandas as pd, numpy as np\n",
    "from dataiku import pandasutils as pdu\n",
    "import matplotlib.pyplot as plt\n",
    "from mpl_toolkits.mplot3d import Axes3D\n",
    "import io"
   ]
  },
  {
   "cell_type": "code",
   "execution_count": 0,
   "metadata": {},
   "outputs": [],
   "source": [
    "### COMPLETE THIS SECTION\n",
    "### ADD IMPORT OF THE `plot_3d` function from the `dataviz` project library\n",
    "from dataviz import plot_3d"
   ]
  },
  {
   "cell_type": "code",
   "execution_count": 0,
   "metadata": {},
   "outputs": [],
   "source": [
    "# Read recipe inputs\n",
    "ecommerce_transactions_with_ip_prepared = dataiku.Dataset(\"ecommerce_trans_enrich\")\n",
    "df = ecommerce_transactions_with_ip_prepared.get_dataframe()"
   ]
  },
  {
   "cell_type": "code",
   "execution_count": 0,
   "metadata": {},
   "outputs": [],
   "source": [
    "# Filter country\n",
    "country = \"United States\"\n",
    "df = df[df.MerchantIP_country == country]"
   ]
  },
  {
   "cell_type": "code",
   "execution_count": 0,
   "metadata": {},
   "outputs": [],
   "source": [
    "df_avg_purchase = df[['PurchaseHour', 'CustomerAge', 'OrderTotal']].groupby(['PurchaseHour', 'CustomerAge'], as_index=False).mean()"
   ]
  },
  {
   "cell_type": "code",
   "execution_count": 0,
   "metadata": {},
   "outputs": [],
   "source": [
    "picture = plot_3d(df_avg_purchase, \"PurchaseHour\", \"CustomerAge\", \"OrderTotal\", country)"
   ]
  },
  {
   "cell_type": "code",
   "execution_count": 0,
   "metadata": {},
   "outputs": [],
   "source": [
    "folder = dataiku.Folder(\"SBUD2jwt\")\n",
    "folder.upload_stream(f\"{country}-3D.png\", picture.getvalue())"
   ]
  }
 ],
 "metadata": {
  "associatedRecipe": "compute_SBUD2jwt",
  "createdOn": 1730189455935,
  "creationTag": {
   "extendedProperties": {},
   "lastModifiedBy": {
    "login": "vicent.osabel@dataiku.com"
   },
   "lastModifiedOn": 1730189455935,
   "versionNumber": 0
  },
  "creator": "vicent.osabel@dataiku.com",
  "customFields": {},
  "dkuGit": {
   "gitReference": {
    "checkout": "master",
    "isDirty": false,
    "remote": "git@github.com:vicent-osabel/anz-container-day-sample-api-service-go.git",
    "remotePath": "notebook editor for compute_SBUD2jwt.ipynb"
   },
   "lastInteraction": 1730190327458
  },
  "hide_input": false,
  "kernelspec": {
   "display_name": "Python in CPU-M-1-cpu-4Gb-Ram (env py_36_matplotlib_dash)",
   "language": "python",
   "name": "py-dku-containerized-venv-py_36_matplotlib_dash-cpu-m-1-cpu-4gb-ram"
  },
  "language_info": {
   "codemirror_mode": {
    "name": "ipython",
    "version": 3
   },
   "file_extension": ".py",
   "mimetype": "text/x-python",
   "name": "python",
   "nbconvert_exporter": "python",
   "pygments_lexer": "ipython3",
   "version": "3.6.8"
  },
  "modifiedBy": "vicent.osabel@dataiku.com",
  "tags": [
   "recipe-editor"
  ]
 },
 "nbformat": 4,
 "nbformat_minor": 1
}
